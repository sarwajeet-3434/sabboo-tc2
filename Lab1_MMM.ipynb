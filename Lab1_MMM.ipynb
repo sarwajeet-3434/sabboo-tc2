{
 "cells": [
  {
   "cell_type": "code",
   "execution_count": 1,
   "id": "66bd9179",
   "metadata": {},
   "outputs": [
    {
     "ename": "FileNotFoundError",
     "evalue": "[Errno 2] No such file or directory: 'price_data.csv'",
     "output_type": "error",
     "traceback": [
      "\u001b[1;31m---------------------------------------------------------------------------\u001b[0m",
      "\u001b[1;31mFileNotFoundError\u001b[0m                         Traceback (most recent call last)",
      "Cell \u001b[1;32mIn[1], line 38\u001b[0m\n\u001b[0;32m     35\u001b[0m             a[i] \u001b[38;5;241m+\u001b[39m\u001b[38;5;241m=\u001b[39m \u001b[38;5;241m1\u001b[39m\n\u001b[0;32m     36\u001b[0m     \u001b[38;5;28mprint\u001b[39m(\u001b[38;5;124m\"\u001b[39m\u001b[38;5;124mMedian: \u001b[39m\u001b[38;5;124m\"\u001b[39m, a)\n\u001b[1;32m---> 38\u001b[0m \u001b[43mread_csv\u001b[49m\u001b[43m(\u001b[49m\u001b[38;5;124;43m'\u001b[39;49m\u001b[38;5;124;43mprice_data.csv\u001b[39;49m\u001b[38;5;124;43m'\u001b[39;49m\u001b[43m)\u001b[49m\n",
      "Cell \u001b[1;32mIn[1], line 4\u001b[0m, in \u001b[0;36mread_csv\u001b[1;34m(file_path)\u001b[0m\n\u001b[0;32m      3\u001b[0m \u001b[38;5;28;01mdef\u001b[39;00m \u001b[38;5;21mread_csv\u001b[39m(file_path):\n\u001b[1;32m----> 4\u001b[0m     \u001b[38;5;28;01mwith\u001b[39;00m \u001b[38;5;28;43mopen\u001b[39;49m\u001b[43m(\u001b[49m\u001b[43mfile_path\u001b[49m\u001b[43m,\u001b[49m\u001b[43m \u001b[49m\u001b[38;5;124;43m'\u001b[39;49m\u001b[38;5;124;43mr\u001b[39;49m\u001b[38;5;124;43m'\u001b[39;49m\u001b[43m)\u001b[49m \u001b[38;5;28;01mas\u001b[39;00m csv_file:\n\u001b[0;32m      5\u001b[0m         data \u001b[38;5;241m=\u001b[39m \u001b[38;5;241m0\u001b[39m\n\u001b[0;32m      6\u001b[0m         \u001b[38;5;28;01mfor\u001b[39;00m row \u001b[38;5;129;01min\u001b[39;00m csv_file:\n",
      "File \u001b[1;32m~\\AppData\\Roaming\\Python\\Python312\\site-packages\\IPython\\core\\interactiveshell.py:324\u001b[0m, in \u001b[0;36m_modified_open\u001b[1;34m(file, *args, **kwargs)\u001b[0m\n\u001b[0;32m    317\u001b[0m \u001b[38;5;28;01mif\u001b[39;00m file \u001b[38;5;129;01min\u001b[39;00m {\u001b[38;5;241m0\u001b[39m, \u001b[38;5;241m1\u001b[39m, \u001b[38;5;241m2\u001b[39m}:\n\u001b[0;32m    318\u001b[0m     \u001b[38;5;28;01mraise\u001b[39;00m \u001b[38;5;167;01mValueError\u001b[39;00m(\n\u001b[0;32m    319\u001b[0m         \u001b[38;5;124mf\u001b[39m\u001b[38;5;124m\"\u001b[39m\u001b[38;5;124mIPython won\u001b[39m\u001b[38;5;124m'\u001b[39m\u001b[38;5;124mt let you open fd=\u001b[39m\u001b[38;5;132;01m{\u001b[39;00mfile\u001b[38;5;132;01m}\u001b[39;00m\u001b[38;5;124m by default \u001b[39m\u001b[38;5;124m\"\u001b[39m\n\u001b[0;32m    320\u001b[0m         \u001b[38;5;124m\"\u001b[39m\u001b[38;5;124mas it is likely to crash IPython. If you know what you are doing, \u001b[39m\u001b[38;5;124m\"\u001b[39m\n\u001b[0;32m    321\u001b[0m         \u001b[38;5;124m\"\u001b[39m\u001b[38;5;124myou can use builtins\u001b[39m\u001b[38;5;124m'\u001b[39m\u001b[38;5;124m open.\u001b[39m\u001b[38;5;124m\"\u001b[39m\n\u001b[0;32m    322\u001b[0m     )\n\u001b[1;32m--> 324\u001b[0m \u001b[38;5;28;01mreturn\u001b[39;00m \u001b[43mio_open\u001b[49m\u001b[43m(\u001b[49m\u001b[43mfile\u001b[49m\u001b[43m,\u001b[49m\u001b[43m \u001b[49m\u001b[38;5;241;43m*\u001b[39;49m\u001b[43margs\u001b[49m\u001b[43m,\u001b[49m\u001b[43m \u001b[49m\u001b[38;5;241;43m*\u001b[39;49m\u001b[38;5;241;43m*\u001b[39;49m\u001b[43mkwargs\u001b[49m\u001b[43m)\u001b[49m\n",
      "\u001b[1;31mFileNotFoundError\u001b[0m: [Errno 2] No such file or directory: 'price_data.csv'"
     ]
    }
   ],
   "source": [
    "# .split(',') -- seprerates values using delimiter and converts them into list\n",
    "# basically this function reads the csv file data\n",
    "def read_csv(file_path):\n",
    "    with open(file_path, 'r') as csv_file:\n",
    "        data = 0\n",
    "        for row in csv_file:\n",
    "            values = row.split(',')[2]  # Split the row by commas (assuming the file is comma-separated)\n",
    "#             print(values)\n",
    "            for value in values:\n",
    "                try:\n",
    "                    data += float(value)  # Convert value to integer and add to the data sum\n",
    "                except ValueError:\n",
    "                    pass  # Handle non-integer values gracefully\n",
    "    print(\"Total sum of integer values:\", data)\n",
    "    \n",
    "    # Mean\n",
    "    average = float(data/len(values))\n",
    "    print(\"Mean: \", average)\n",
    "    \n",
    "    # Median\n",
    "    sorted_data = sorted(values)\n",
    "    n = len(values)\n",
    "    mid = n//2\n",
    "    if n % 2 == 0:\n",
    "        print(\"Median: \", int(sorted_data[mid - 1] + sorted_data[mid]) / 2)\n",
    "    else:\n",
    "        print(\"Median: \", sorted_data[mid])\n",
    "        \n",
    "    # Mode\n",
    "    a = {}\n",
    "    for i in values:\n",
    "        if not i in a:\n",
    "            a[i] = 1\n",
    "        else:\n",
    "            a[i] += 1\n",
    "    print(\"Median: \", a)\n",
    "\n",
    "read_csv('price_data.csv')\n"
   ]
  },
  {
   "cell_type": "code",
   "execution_count": 18,
   "id": "d44ce546",
   "metadata": {},
   "outputs": [],
   "source": [
    "# csv_file = open('price_data.csv')\n",
    "# for rows in csv_file:\n",
    "#     print(rows.split(',')[0]) # now here it prints only the first column"
   ]
  },
  {
   "cell_type": "code",
   "execution_count": 25,
   "id": "36d1ef19",
   "metadata": {},
   "outputs": [],
   "source": [
    "# function to calculate mean of data\n",
    "def calculate_mean(data):\n",
    "    return sum(data) / len(data)\n",
    "\n",
    "# function to calculate median of data\n",
    "def calculate_median(data):\n",
    "    sorted_data = sorted(data)\n",
    "    n = len(data)\n",
    "    mid = n // 2\n",
    "    if n % 2 == 0:\n",
    "        return (sorted_data[mid - 1] + sorted_data[mid]) / 2\n",
    "    else:\n",
    "        return sorted_data[mid]\n",
    "    \n",
    "# function to calculate mode of data\n",
    "def calculate_mode(data):\n",
    "    frequency = {}\n",
    "    for item in data:\n",
    "        frequency[item] = frequency.get(item, 0) + 1\n",
    "    mode = max(frequency, key=frequency.get)\n",
    "    return mode, frequency[mode]"
   ]
  },
  {
   "cell_type": "code",
   "execution_count": 27,
   "id": "947c890e",
   "metadata": {},
   "outputs": [
    {
     "name": "stdout",
     "output_type": "stream",
     "text": [
      "Total sum of integer values: 4462641.0\n",
      "Mean:  557830.125\n",
      "Median:  5.5\n",
      "Median:  {'0': 1, '.': 1, '1': 3, '9': 2, '6': 1}\n"
     ]
    }
   ],
   "source": [
    "read_csv(\"price_data.csv\")"
   ]
  }
 ],
 "metadata": {
  "kernelspec": {
   "display_name": "base",
   "language": "python",
   "name": "python3"
  },
  "language_info": {
   "codemirror_mode": {
    "name": "ipython",
    "version": 3
   },
   "file_extension": ".py",
   "mimetype": "text/x-python",
   "name": "python",
   "nbconvert_exporter": "python",
   "pygments_lexer": "ipython3",
   "version": "3.12.4"
  }
 },
 "nbformat": 4,
 "nbformat_minor": 5
}
