{
 "cells": [
  {
   "cell_type": "code",
   "execution_count": 1,
   "id": "6d189ac2",
   "metadata": {},
   "outputs": [],
   "source": [
    "import numpy as np\n",
    "import pandas as pd\n",
    "\n",
    "data = pd.read_csv('Iris.csv')"
   ]
  },
  {
   "cell_type": "code",
   "execution_count": 2,
   "id": "5c99dcd3",
   "metadata": {},
   "outputs": [
    {
     "data": {
      "text/html": [
       "<div>\n",
       "<style scoped>\n",
       "    .dataframe tbody tr th:only-of-type {\n",
       "        vertical-align: middle;\n",
       "    }\n",
       "\n",
       "    .dataframe tbody tr th {\n",
       "        vertical-align: top;\n",
       "    }\n",
       "\n",
       "    .dataframe thead th {\n",
       "        text-align: right;\n",
       "    }\n",
       "</style>\n",
       "<table border=\"1\" class=\"dataframe\">\n",
       "  <thead>\n",
       "    <tr style=\"text-align: right;\">\n",
       "      <th></th>\n",
       "      <th>Id</th>\n",
       "      <th>SepalLengthCm</th>\n",
       "      <th>SepalWidthCm</th>\n",
       "      <th>PetalLengthCm</th>\n",
       "      <th>PetalWidthCm</th>\n",
       "      <th>Species</th>\n",
       "    </tr>\n",
       "  </thead>\n",
       "  <tbody>\n",
       "    <tr>\n",
       "      <th>0</th>\n",
       "      <td>1</td>\n",
       "      <td>5.1</td>\n",
       "      <td>3.5</td>\n",
       "      <td>1.4</td>\n",
       "      <td>0.2</td>\n",
       "      <td>Iris-setosa</td>\n",
       "    </tr>\n",
       "    <tr>\n",
       "      <th>1</th>\n",
       "      <td>2</td>\n",
       "      <td>4.9</td>\n",
       "      <td>3.0</td>\n",
       "      <td>1.4</td>\n",
       "      <td>0.2</td>\n",
       "      <td>Iris-setosa</td>\n",
       "    </tr>\n",
       "    <tr>\n",
       "      <th>2</th>\n",
       "      <td>3</td>\n",
       "      <td>4.7</td>\n",
       "      <td>3.2</td>\n",
       "      <td>1.3</td>\n",
       "      <td>0.2</td>\n",
       "      <td>Iris-setosa</td>\n",
       "    </tr>\n",
       "    <tr>\n",
       "      <th>3</th>\n",
       "      <td>4</td>\n",
       "      <td>4.6</td>\n",
       "      <td>3.1</td>\n",
       "      <td>1.5</td>\n",
       "      <td>0.2</td>\n",
       "      <td>Iris-setosa</td>\n",
       "    </tr>\n",
       "    <tr>\n",
       "      <th>4</th>\n",
       "      <td>5</td>\n",
       "      <td>5.0</td>\n",
       "      <td>3.6</td>\n",
       "      <td>1.4</td>\n",
       "      <td>0.2</td>\n",
       "      <td>Iris-setosa</td>\n",
       "    </tr>\n",
       "  </tbody>\n",
       "</table>\n",
       "</div>"
      ],
      "text/plain": [
       "   Id  SepalLengthCm  SepalWidthCm  PetalLengthCm  PetalWidthCm      Species\n",
       "0   1            5.1           3.5            1.4           0.2  Iris-setosa\n",
       "1   2            4.9           3.0            1.4           0.2  Iris-setosa\n",
       "2   3            4.7           3.2            1.3           0.2  Iris-setosa\n",
       "3   4            4.6           3.1            1.5           0.2  Iris-setosa\n",
       "4   5            5.0           3.6            1.4           0.2  Iris-setosa"
      ]
     },
     "execution_count": 2,
     "metadata": {},
     "output_type": "execute_result"
    }
   ],
   "source": [
    "data.head()"
   ]
  },
  {
   "cell_type": "code",
   "execution_count": 3,
   "id": "9f41f961",
   "metadata": {},
   "outputs": [
    {
     "data": {
      "text/plain": [
       "Id               0\n",
       "SepalLengthCm    0\n",
       "SepalWidthCm     0\n",
       "PetalLengthCm    0\n",
       "PetalWidthCm     0\n",
       "Species          0\n",
       "dtype: int64"
      ]
     },
     "execution_count": 3,
     "metadata": {},
     "output_type": "execute_result"
    }
   ],
   "source": [
    "data.isnull().sum()"
   ]
  },
  {
   "cell_type": "code",
   "execution_count": 4,
   "id": "45c4976c",
   "metadata": {},
   "outputs": [
    {
     "data": {
      "text/plain": [
       "array(['Iris-setosa', 'Iris-versicolor', 'Iris-virginica'], dtype=object)"
      ]
     },
     "execution_count": 4,
     "metadata": {},
     "output_type": "execute_result"
    }
   ],
   "source": [
    "data['Species'].unique()"
   ]
  },
  {
   "cell_type": "code",
   "execution_count": 5,
   "id": "46c8827a",
   "metadata": {},
   "outputs": [],
   "source": [
    "setosa = data[data['Species']=='Iris-setosa']['SepalLengthCm']\n",
    "versicolor = data[data['Species']=='Iris-versicolor']['SepalLengthCm']\n",
    "virginica = data[data['Species']=='Iris-virginica']['SepalLengthCm']"
   ]
  },
  {
   "cell_type": "code",
   "execution_count": 14,
   "id": "27fa1726",
   "metadata": {},
   "outputs": [
    {
     "data": {
      "text/plain": [
       "(150, 6)"
      ]
     },
     "execution_count": 14,
     "metadata": {},
     "output_type": "execute_result"
    }
   ],
   "source": [
    "data.shape"
   ]
  },
  {
   "cell_type": "code",
   "execution_count": 28,
   "id": "d2625497",
   "metadata": {},
   "outputs": [
    {
     "name": "stdout",
     "output_type": "stream",
     "text": [
      "mean:  5.005999999999999\n",
      "p-value:  0.9046884777690936\n"
     ]
    }
   ],
   "source": [
    "from scipy.stats import ttest_1samp\n",
    "setosa_mean = np.mean(setosa)\n",
    "print(\"mean: \", setosa_mean)\n",
    "ttest, p_value = ttest_1samp(setosa, 5)\n",
    "print(\"p-value: \", p_value)"
   ]
  },
  {
   "cell_type": "code",
   "execution_count": 9,
   "id": "34dc8afb",
   "metadata": {},
   "outputs": [
    {
     "name": "stdout",
     "output_type": "stream",
     "text": [
      "T-statistic: -10.52098626754911\n",
      "P-value: 8.985235037487077e-18\n",
      "There is a significant difference in sepal lengths between Iris-setosa and Iris-versicolor.\n"
     ]
    }
   ],
   "source": [
    "# stats.ttest_ind Function:\n",
    "# This function takes two samples as input and calculates the t-statistic and p-value.\n",
    "# t-statistic: Measures the difference between the sample means in terms of standard error. A larger t-statistic indicates a greater difference.\n",
    "# p-value: Represents the probability of observing the difference in means (or a more extreme difference) if the null hypothesis were true. A smaller p-value suggests stronger evidence against the null hypothesis.\n",
    "\n",
    "from scipy import stats\n",
    "import seaborn as sns\n",
    "import matplotlib.pyplot as plt\n",
    "from scipy.stats import f_oneway, chi2_contingency\n",
    "\n",
    "t_stat, p_value = stats.ttest_ind(setosa, versicolor)\n",
    "\n",
    "# Output the results\n",
    "print(f'T-statistic: {t_stat}')\n",
    "print(f'P-value: {p_value}')\n",
    "\n",
    "# Interpretation\n",
    "if p_value < 0.05:\n",
    "    print(\"There is a significant difference in sepal lengths between Iris-setosa and Iris-versicolor.\")\n",
    "else:\n",
    "    print(\"There is no significant difference in sepal lengths between Iris-setosa and Iris-versicolor.\")"
   ]
  },
  {
   "cell_type": "code",
   "execution_count": 12,
   "id": "9857064d",
   "metadata": {},
   "outputs": [
    {
     "name": "stdout",
     "output_type": "stream",
     "text": [
      "F-statistic: 119.26450218450468\n",
      "P-value: 1.6696691907693826e-31\n"
     ]
    }
   ],
   "source": [
    "# performs a one-way ANOVA (Analysis of Variance) test. It's designed to compare the means of three or more independent groups.\n",
    "f_stat, p_value = f_oneway(setosa, versicolor, virginica)\n",
    "\n",
    "# Output the results\n",
    "print(f'F-statistic: {f_stat}')\n",
    "print(f'P-value: {p_value}')"
   ]
  },
  {
   "cell_type": "code",
   "execution_count": 29,
   "id": "ccc3eeca",
   "metadata": {},
   "outputs": [
    {
     "name": "stdout",
     "output_type": "stream",
     "text": [
      "SepalWidthCategory  Medium  Narrow  Wide\n",
      "Species                                 \n",
      "Iris-setosa             34       1    15\n",
      "Iris-versicolor         41       9     0\n",
      "Iris-virginica          46       1     3\n"
     ]
    }
   ],
   "source": [
    "# contengency table: clear and organized way to visualize the relationship between two categorical variables.\n",
    "def categorize_sepal_width(width):\n",
    "    if width < 2.5:\n",
    "        return 'Narrow'\n",
    "    elif 2.5 <= width <= 3.5:\n",
    "        return 'Medium'\n",
    "    else:\n",
    "        return 'Wide'\n",
    "data['SepalWidthCategory'] = data['SepalWidthCm'].apply(categorize_sepal_width)\n",
    "contingency_table = pd.crosstab(data['Species'], data['SepalWidthCategory'])\n",
    "print(contingency_table)"
   ]
  },
  {
   "cell_type": "code",
   "execution_count": 34,
   "id": "966ca441",
   "metadata": {},
   "outputs": [
    {
     "name": "stdout",
     "output_type": "stream",
     "text": [
      "Chi-Square Statistic: 34.43801652892562\n",
      "P-Value: 6.059048931069328e-07\n",
      "Degrees of Freedom: 4\n",
      "Expected Frequencies:\n",
      " [[40.33333333  3.66666667  6.        ]\n",
      " [40.33333333  3.66666667  6.        ]\n",
      " [40.33333333  3.66666667  6.        ]]\n",
      "Reject the null hypothesis: There is a significant relationship between species and sepal width categories.\n"
     ]
    }
   ],
   "source": [
    "chi2_stat, p_value, dof, expeted = chi2_contingency(contingency_table)\n",
    "\n",
    "# Step 3: Output results\n",
    "print(\"Chi-Square Statistic:\", chi2_stat)\n",
    "print(\"P-Value:\", p_value)\n",
    "print(\"Degrees of Freedom:\", dof)\n",
    "print(\"Expected Frequencies:\\n\", expected)\n",
    "\n",
    "# Step 4: Interpretation\n",
    "if p_value < 0.05:\n",
    "    print(\"Reject the null hypothesis: There is a significant relationship between species and sepal width categories.\")\n",
    "else:\n",
    "    print(\"Fail to reject the null hypothesis: There is no significant relationship between species and sepal width categories.\")"
   ]
  }
 ],
 "metadata": {
  "kernelspec": {
   "display_name": "Python 3 (ipykernel)",
   "language": "python",
   "name": "python3"
  },
  "language_info": {
   "codemirror_mode": {
    "name": "ipython",
    "version": 3
   },
   "file_extension": ".py",
   "mimetype": "text/x-python",
   "name": "python",
   "nbconvert_exporter": "python",
   "pygments_lexer": "ipython3",
   "version": "3.9.12"
  }
 },
 "nbformat": 4,
 "nbformat_minor": 5
}
